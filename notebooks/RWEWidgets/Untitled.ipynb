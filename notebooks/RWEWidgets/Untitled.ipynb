{
 "cells": [
  {
   "cell_type": "code",
   "execution_count": 62,
   "metadata": {},
   "outputs": [
    {
     "data": {
      "text/plain": [
       "array([[  17.,    1.,    2.],\n",
       "       [  17.,    1.,    3.],\n",
       "       [  17.,    1.,   15.],\n",
       "       ...,\n",
       "       [  35., 1000.,    4.],\n",
       "       [  35., 1000.,    5.],\n",
       "       [  35., 1000.,   11.]])"
      ]
     },
     "execution_count": 62,
     "metadata": {},
     "output_type": "execute_result"
    }
   ],
   "source": [
    "with open('/home/jingwen/workspace/data/intermediate/hello.tsv') as input:\n",
    "            data = np.loadtxt(input, delimiter='\\t')\n",
    "data"
   ]
  },
  {
   "cell_type": "code",
   "execution_count": 152,
   "metadata": {},
   "outputs": [
    {
     "data": {
      "text/plain": [
       "array([[  20.,    1.],\n",
       "       [  39.,    2.],\n",
       "       [  50.,    3.],\n",
       "       ...,\n",
       "       [  37.,  998.],\n",
       "       [  38.,  999.],\n",
       "       [  35., 1000.]])"
      ]
     },
     "execution_count": 152,
     "metadata": {},
     "output_type": "execute_result"
    }
   ],
   "source": [
    "dataGroupedByPatient = np.split(data[:, 0], np.cumsum(np.unique(data[:, 1], return_counts=True)[1])[:-1])\n",
    "\n",
    "iterable = ( np.max(item) for item in dataGroupedByPatient)\n",
    "data3 = np.fromiter(iterable, float)\n",
    "\n",
    "data4 = np.unique(data[:, 1], return_counts=False)\n",
    "\n",
    "b = np.zeros((len(data3), 2))\n",
    "\n",
    "b[:,0] = data3\n",
    "b[:,1] = data4\n",
    "b"
   ]
  },
  {
   "cell_type": "code",
   "execution_count": null,
   "metadata": {},
   "outputs": [],
   "source": []
  },
  {
   "cell_type": "code",
   "execution_count": 4,
   "metadata": {},
   "outputs": [],
   "source": [
    "import numpy as np"
   ]
  },
  {
   "cell_type": "code",
   "execution_count": 12,
   "metadata": {},
   "outputs": [
    {
     "name": "stdout",
     "output_type": "stream",
     "text": [
      "<class 'list'>\n"
     ]
    }
   ],
   "source": [
    "print(type(data))"
   ]
  },
  {
   "cell_type": "code",
   "execution_count": null,
   "metadata": {},
   "outputs": [],
   "source": []
  }
 ],
 "metadata": {
  "kernelspec": {
   "display_name": "ker",
   "language": "python",
   "name": "python3"
  },
  "language_info": {
   "codemirror_mode": {
    "name": "ipython",
    "version": 3
   },
   "file_extension": ".py",
   "mimetype": "text/x-python",
   "name": "python",
   "nbconvert_exporter": "python",
   "pygments_lexer": "ipython3",
   "version": "3.7.3"
  }
 },
 "nbformat": 4,
 "nbformat_minor": 2
}
