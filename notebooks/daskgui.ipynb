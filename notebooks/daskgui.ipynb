{
 "cells": [
  {
   "cell_type": "code",
   "execution_count": 2,
   "metadata": {},
   "outputs": [
    {
     "name": "stderr",
     "output_type": "stream",
     "text": [
      "/home/linuxbrew/.linuxbrew/opt/python/lib/python3.7/site-packages/distributed/bokeh/core.py:74: UserWarning: \n",
      "Port 8787 is already in use. \n",
      "Perhaps you already have a cluster running?\n",
      "Hosting the diagnostics dashboard on a random port instead.\n",
      "  warnings.warn(\"\\n\" + msg)\n"
     ]
    },
    {
     "data": {
      "text/html": [
       "<table style=\"border: 2px solid white;\">\n",
       "<tr>\n",
       "<td style=\"vertical-align: top; border: 0px solid white\">\n",
       "<h3>Client</h3>\n",
       "<ul>\n",
       "  <li><b>Scheduler: </b>tcp://127.0.0.1:35349\n",
       "  <li><b>Dashboard: </b><a href='http://127.0.0.1:38515/status' target='_blank'>http://127.0.0.1:38515/status</a>\n",
       "</ul>\n",
       "</td>\n",
       "<td style=\"vertical-align: top; border: 0px solid white\">\n",
       "<h3>Cluster</h3>\n",
       "<ul>\n",
       "  <li><b>Workers: </b>4</li>\n",
       "  <li><b>Cores: </b>4</li>\n",
       "  <li><b>Memory: </b>12.48 GB</li>\n",
       "</ul>\n",
       "</td>\n",
       "</tr>\n",
       "</table>"
      ],
      "text/plain": [
       "<Client: scheduler='tcp://127.0.0.1:35349' processes=4 cores=4>"
      ]
     },
     "execution_count": 2,
     "metadata": {},
     "output_type": "execute_result"
    },
    {
     "name": "stderr",
     "output_type": "stream",
     "text": [
      "distributed.utils - ERROR - 'start'\n",
      "Traceback (most recent call last):\n",
      "  File \"/home/linuxbrew/.linuxbrew/opt/python/lib/python3.7/site-packages/distributed/utils.py\", line 713, in log_errors\n",
      "    yield\n",
      "  File \"/home/linuxbrew/.linuxbrew/opt/python/lib/python3.7/site-packages/distributed/bokeh/components.py\", line 542, in update\n",
      "    ts = metadata[\"keys\"][self.key]\n",
      "KeyError: 'start'\n",
      "tornado.application - ERROR - Exception in callback functools.partial(<bound method IOLoop._discard_future_result of <zmq.eventloop.ioloop.ZMQIOLoop object at 0x7f4d9b794d30>>, <Future finished exception=KeyError('start')>)\n",
      "Traceback (most recent call last):\n",
      "  File \"/home/linuxbrew/.linuxbrew/opt/python/lib/python3.7/site-packages/tornado/ioloop.py\", line 743, in _run_callback\n",
      "    ret = callback()\n",
      "  File \"/home/linuxbrew/.linuxbrew/opt/python/lib/python3.7/site-packages/tornado/ioloop.py\", line 767, in _discard_future_result\n",
      "    future.result()\n",
      "  File \"/home/linuxbrew/.linuxbrew/opt/python/lib/python3.7/site-packages/tornado/gen.py\", line 742, in run\n",
      "    yielded = self.gen.send(value)\n",
      "  File \"/home/linuxbrew/.linuxbrew/opt/python/lib/python3.7/site-packages/bokeh/server/session.py\", line 70, in _needs_document_lock_wrapper\n",
      "    result = yield yield_for_all_futures(func(self, *args, **kwargs))\n",
      "  File \"/home/linuxbrew/.linuxbrew/opt/python/lib/python3.7/site-packages/bokeh/server/session.py\", line 191, in with_document_locked\n",
      "    return func(*args, **kwargs)\n",
      "  File \"/home/linuxbrew/.linuxbrew/opt/python/lib/python3.7/site-packages/bokeh/document/document.py\", line 1127, in wrapper\n",
      "    return doc._with_self_as_curdoc(invoke)\n",
      "  File \"/home/linuxbrew/.linuxbrew/opt/python/lib/python3.7/site-packages/bokeh/document/document.py\", line 1113, in _with_self_as_curdoc\n",
      "    return f()\n",
      "  File \"/home/linuxbrew/.linuxbrew/opt/python/lib/python3.7/site-packages/bokeh/document/document.py\", line 1126, in invoke\n",
      "    return f(*args, **kwargs)\n",
      "  File \"/home/linuxbrew/.linuxbrew/opt/python/lib/python3.7/site-packages/bokeh/document/document.py\", line 916, in remove_then_invoke\n",
      "    return callback(*args, **kwargs)\n",
      "  File \"/home/linuxbrew/.linuxbrew/opt/python/lib/python3.7/site-packages/distributed/bokeh/components.py\", line 564, in <lambda>\n",
      "    self.doc().add_next_tick_callback(lambda: self.update(prof, metadata))\n",
      "  File \"/home/linuxbrew/.linuxbrew/opt/python/lib/python3.7/site-packages/bokeh/core/property/validation.py\", line 97, in func\n",
      "    return input_function(*args, **kwargs)\n",
      "  File \"/home/linuxbrew/.linuxbrew/opt/python/lib/python3.7/site-packages/distributed/bokeh/components.py\", line 542, in update\n",
      "    ts = metadata[\"keys\"][self.key]\n",
      "KeyError: 'start'\n"
     ]
    }
   ],
   "source": [
    "from dask.distributed import Client\n",
    "client = Client()\n",
    "client"
   ]
  },
  {
   "cell_type": "code",
   "execution_count": null,
   "metadata": {},
   "outputs": [],
   "source": []
  }
 ],
 "metadata": {
  "kernelspec": {
   "display_name": "Python 3",
   "language": "python",
   "name": "python3"
  },
  "language_info": {
   "codemirror_mode": {
    "name": "ipython",
    "version": 3
   },
   "file_extension": ".py",
   "mimetype": "text/x-python",
   "name": "python",
   "nbconvert_exporter": "python",
   "pygments_lexer": "ipython3",
   "version": "3.7.3"
  }
 },
 "nbformat": 4,
 "nbformat_minor": 2
}
